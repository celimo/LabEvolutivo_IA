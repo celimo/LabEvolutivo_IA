{
  "nbformat": 4,
  "nbformat_minor": 0,
  "metadata": {
    "colab": {
      "name": "LabEvolu_IA.ipynb",
      "provenance": [],
      "authorship_tag": "ABX9TyNnX5bOPgHTKXLKJOgOuIUV",
      "include_colab_link": true
    },
    "kernelspec": {
      "name": "python3",
      "display_name": "Python 3"
    },
    "language_info": {
      "name": "python"
    }
  },
  "cells": [
    {
      "cell_type": "markdown",
      "metadata": {
        "id": "view-in-github",
        "colab_type": "text"
      },
      "source": [
        "<a href=\"https://colab.research.google.com/github/celimo/LabEvolutivo_IA/blob/main/LabEvolu_IA.ipynb\" target=\"_parent\"><img src=\"https://colab.research.google.com/assets/colab-badge.svg\" alt=\"Open In Colab\"/></a>"
      ]
    },
    {
      "cell_type": "markdown",
      "metadata": {
        "id": "1AFWcqOsRTJO"
      },
      "source": [
        "# Planteamiento del problema\n",
        "\n",
        "En este caso se debe minimizar la función:\n",
        "\n",
        "\\begin{equation}\n",
        "f(\\vec{x})=9,78\\cdot n + \\sum_{i=1}^{n}\\left[\\left(x_i^2-A_i\\cos{(2\\pi\\cdot x_i)}\\right)\\right]\n",
        "\\end{equation}"
      ]
    },
    {
      "cell_type": "markdown",
      "metadata": {
        "id": "ck7kbsSqSBvf"
      },
      "source": [
        "## Definición del cromosoma y de sus genes\n",
        "\n",
        "En este caso el cromosoma va a estar definido por el vector:\n",
        "\n",
        "\\begin{equation}\n",
        "V=\\left(v_1, v_2, v_3, v_4, ..., v_n\\right)\n",
        "\\end{equation}\n",
        "\n",
        "Donde cada componente del vector es un componente de la entrada de la función, tal que:\n",
        "\n",
        "\\begin{align}\n",
        "  x_1 &= v_1\\\\\n",
        "  x_2 &= v_2\\\\\n",
        "  x_3 &= v_3\\\\\n",
        "  &\\vdots\\\\\n",
        "  x_n &= v_n\n",
        "\\end{align}\n"
      ]
    },
    {
      "cell_type": "markdown",
      "metadata": {
        "id": "zW1YVGoOTAYB"
      },
      "source": [
        "## Función de calidad\n",
        "\n",
        "Ya que se desea minimizar la función se tiene que la suma de los cuadrados debe disminuir y la resta de los cosenos debe incrementar, de esta forma es correcto supone que el mínimo e produce cuando:\n",
        "\n",
        "\\begin{equation}\n",
        "  \\left( x_1^2+x_2^2+\\cdots+x_n^2\\right)\\to 0\n",
        "\\end{equation}\n",
        "\n",
        "\\begin{equation}\n",
        "  A_1\\cos(2\\pi\\cdot x_1)+A_2\\cos(2\\pi\\cdot x_2)+\\cdots+A_n\\cos(2\\pi\\cdot x_n)\\to |A_1|+|A_2|+\\cdots+|A_n|\n",
        "\\end{equation}\n",
        "\n",
        "De esta forma, se puede considerar que se alcanza el mínimo cuando:\n",
        "\n",
        "\\begin{equation}\n",
        "  F(\\vec{x})=\\frac{A_1\\cos(2\\pi\\cdot x_1)+A_2\\cos(2\\pi\\cdot x_2)+\\cdots+A_n\\cos(2\\pi\\cdot x_n)}{x_1^2+x_2^2+\\cdots+x_n^2+1}=|A_1|+|A_2|+\\cdots+|A_n|\n",
        "\\end{equation}\n",
        "\n",
        "Note que en el denominador se debe sumar $1$ ya que conforme la suma de cuadrados tiende a cero se indefiniría la función si no estuviera el 1."
      ]
    },
    {
      "cell_type": "code",
      "metadata": {
        "id": "36TFhMucU839"
      },
      "source": [
        ""
      ],
      "execution_count": null,
      "outputs": []
    }
  ]
}