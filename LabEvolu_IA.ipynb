{
  "nbformat": 4,
  "nbformat_minor": 0,
  "metadata": {
    "colab": {
      "name": "LabEvolu_IA.ipynb",
      "provenance": [],
      "authorship_tag": "ABX9TyMKhWo7+cjPg6Kr/ecEqD5R",
      "include_colab_link": true
    },
    "kernelspec": {
      "name": "python3",
      "display_name": "Python 3"
    },
    "language_info": {
      "name": "python"
    }
  },
  "cells": [
    {
      "cell_type": "markdown",
      "metadata": {
        "id": "view-in-github",
        "colab_type": "text"
      },
      "source": [
        "<a href=\"https://colab.research.google.com/github/celimo/LabEvolutivo_IA/blob/main/LabEvolu_IA.ipynb\" target=\"_parent\"><img src=\"https://colab.research.google.com/assets/colab-badge.svg\" alt=\"Open In Colab\"/></a>"
      ]
    },
    {
      "cell_type": "markdown",
      "metadata": {
        "id": "1AFWcqOsRTJO"
      },
      "source": [
        "# Planteamiento del problema\n",
        "\n",
        "En este caso se debe minimizar la función:\n",
        "\n",
        "\\begin{equation}\n",
        "f(\\vec{x})=9,78\\cdot n + \\sum_{i=1}^{n}\\left[\\left(x_i^2-A_i\\cos{(2\\pi\\cdot x_i)}\\right)\\right]\n",
        "\\end{equation}"
      ]
    },
    {
      "cell_type": "markdown",
      "metadata": {
        "id": "ck7kbsSqSBvf"
      },
      "source": [
        "## Definición del cromosoma y de sus genes\n",
        "\n",
        "En este caso el cromosoma va a estar definido por el vector:\n",
        "\n",
        "\\begin{equation}\n",
        "V=\\left(v_1, v_2, v_3, v_4, ..., v_n\\right)\n",
        "\\end{equation}\n",
        "\n",
        "Donde cada componente del vector es un componente de la entrada de la función, tal que:\n",
        "\n",
        "\\begin{align}\n",
        "  x_1 &= v_1\\\\\n",
        "  x_2 &= v_2\\\\\n",
        "  x_3 &= v_3\\\\\n",
        "  &\\vdots\\\\\n",
        "  x_n &= v_n\n",
        "\\end{align}\n"
      ]
    },
    {
      "cell_type": "markdown",
      "metadata": {
        "id": "zW1YVGoOTAYB"
      },
      "source": [
        "## Función de calidad\n",
        "\n",
        "Ya que se desea minimizar la función se tiene que la suma de los cuadrados debe disminuir y la resta de los cosenos debe incrementar, de esta forma es correcto supone que el mínimo se produce cuando:\n",
        "\n",
        "\\begin{equation}\n",
        "  \\left( x_1^2+x_2^2+\\cdots+x_n^2\\right)\\to 0\n",
        "\\end{equation}\n",
        "\n",
        "\\begin{equation}\n",
        "  A_1\\cos(2\\pi\\cdot x_1)+A_2\\cos(2\\pi\\cdot x_2)+\\cdots+A_n\\cos(2\\pi\\cdot x_n)\\to |A_1|+|A_2|+\\cdots+|A_n|\n",
        "\\end{equation}\n",
        "\n",
        "De esta forma, se puede considerar que se alcanza el mínimo cuando:\n",
        "\n",
        "\\begin{equation}\n",
        "  F(\\vec{x})=\\frac{A_1\\cos(2\\pi\\cdot x_1)+A_2\\cos(2\\pi\\cdot x_2)+\\cdots+A_n\\cos(2\\pi\\cdot x_n)}{x_1^2+x_2^2+\\cdots+x_n^2+1}=|A_1|+|A_2|+\\cdots+|A_n|\n",
        "\\end{equation}\n",
        "\n",
        "Note que en el denominador se debe sumar $1$ ya que conforme la suma de cuadrados tiende a cero se indefiniría la función si no estuviera el 1."
      ]
    },
    {
      "cell_type": "markdown",
      "metadata": {
        "id": "AaqJzORDX4Ag"
      },
      "source": [
        "## Solución con 6 variables\n",
        "\n",
        "Para este caso se tiene que el valor de $A$ es:\n",
        "\n",
        "\\begin{equation}\n",
        "  A=(10{.}08, 10{.}17, 9{.}91, 9{.}74, 10{.}21, 9{.}82)\n",
        "\\end{equation}\n",
        "\n",
        "### Definición del cromosoma\n",
        "\n",
        "Como se expuso anteriormente el cromosoma está dado por:\n",
        "\n",
        "\\begin{equation}\n",
        "V=\\left(v_1, v_2, v_3, v_4, v_5, v_6\\right)\n",
        "\\end{equation}\n",
        "\n",
        "Donde cada componente del vector es un componente de la entrada de la función, tal que:\n",
        "\n",
        "\\begin{align}\n",
        "  x_1 &= v_1 &\n",
        "  x_2 &= v_2 &\n",
        "  x_3 &= v_3 \\\\\n",
        "  x_4 &= v_4 &\n",
        "  x_5 &= v_5 &\n",
        "  x_6 &= v_6\n",
        "\\end{align}\n",
        "\n",
        "Ahora, se debe definir un rango de valores que puede tomar cada gen, los alelos, en este caso se espera que el resultado sea un número real pequeño, así que el rango definido es de $[-5, 5]$ para cada uno de los genes.\n",
        "\n",
        "Ahora, por comodidad se va a definir que cada variable va a tener 4 posibles datos para combinar: $\\{-5, -2{.}5, 2{.}5, 5\\}$. Ya que se cuentan con 6 variables se tiene una población inicial de $4^6=4096$.\n"
      ]
    },
    {
      "cell_type": "code",
      "metadata": {
        "id": "36TFhMucU839"
      },
      "source": [
        "# Se importan las librerias a utilizar\n",
        "\n",
        "import matplotlib.pyplot as plt # Graficar la evolución de la red\n",
        "import numpy as np # Trabajar con matrices\n",
        "import random # Para trabajar con valores aleatorios"
      ],
      "execution_count": 1,
      "outputs": []
    },
    {
      "cell_type": "code",
      "metadata": {
        "id": "rdxKq-FRaJ5M"
      },
      "source": [
        "# Se define la función de calidad\n",
        "def functCalidad(X, A):\n",
        "  T = X.T\n",
        "  AT = A.T\n",
        "  if len(T) != len(AT):\n",
        "    return \"Error\"\n",
        "  else:\n",
        "    # Operación para obtener los resultados del numerador\n",
        "    temp = AT*np.cos(2*np.pi*T)\n",
        "    num = temp[0]\n",
        "    # Se obtiene la suma de los numeradores\n",
        "    for i in range(len(temp)-1):\n",
        "      num += temp[i+1]\n",
        "\n",
        "    # Se obtienen los valores elevado a la dos\n",
        "    temp = T**2\n",
        "    den = temp[0]\n",
        "    for i in range(len(temp) - 1):\n",
        "      den += temp[i+1]\n",
        "    den += 1\n",
        "    _resul = num/den\n",
        "\n",
        "    return _resul\n",
        "\n",
        "# Mejor solución posible (condición de parada)\n",
        "def mejorValor(A):\n",
        "  AT = A.T\n",
        "\n",
        "  _resul = np.abs(AT[0])\n",
        "  for i in range(len(AT) - 1):\n",
        "    _resul += np.abs(AT[i+1])\n",
        "\n",
        "  return _resul\n",
        "\n",
        "# Se realiza la recombinación de los padres, se van a modificar 2 genes\n",
        "def recombinacion(P, porcet):\n",
        "  np.random.seed() # Crea una semilla para el random\n",
        "  temp = np.random.permutation(P)\n",
        "  final = int(len(P)*porcet)\n",
        "  if final % 2 != 0:\n",
        "    final -= 1\n",
        "  padres = temp[:final]\n",
        "  ind1 = random.randint(0, len(padres[0])-1)\n",
        "  ind2 = random.randint(0, len(padres[0])-1)\n",
        "  # Caso en que ambos sean iguales\n",
        "  while ind1 == ind2:\n",
        "    ind2 = random.randint(0, len(padres[0])-1)\n",
        "  tempHijo = []\n",
        "  for i in range(0, len(padres), 2):\n",
        "    temp1 = []\n",
        "    temp2 = []\n",
        "    for j in range(len(padres[i])):\n",
        "      if j != ind1 and j != ind2:\n",
        "        temp1.append(padres[i][j])\n",
        "        temp2.append(padres[i+1][j])\n",
        "      else:\n",
        "        temp1.append(padres[i+1][j])\n",
        "        temp2.append(padres[i][j])\n",
        "    tempHijo.append(temp1)\n",
        "    tempHijo.append(temp2)\n",
        "  hijos = np.array(tempHijo)\n",
        "  return hijos\n",
        "\n",
        "def torneo(X, calidad, porcentaje):\n",
        "  # Se realizar el array para trabajar\n",
        "  calidad = np.array([calidad])\n",
        "  calidad = calidad.T\n",
        "\n",
        "  temp = np.concatenate((X, calidad), axis=1)\n",
        "  # Se define la cantidad de participantes\n",
        "  # Note que es el doble de los padres utilizados\n",
        "  final = int(2*len(P)*porcentaje)\n",
        "  if final % 2 != 0:\n",
        "    final -= 1\n",
        "  # Se obtienen los participantes\n",
        "  np.random.seed() # Crea una semilla para el random\n",
        "  temp = np.random.permutation(temp)\n",
        "  part = temp[:final]\n",
        "  pob = []\n",
        "  for i in range(0, len(part), 2):\n",
        "    if part[i][6] > part[i+1][6]:\n",
        "      pob.append(part[i][:6])\n",
        "    elif part[i][6] > part[i+1][6]:\n",
        "      pob.append(part[i+1][:6])\n",
        "    else:\n",
        "      if random.randint(0, 1) == 0:\n",
        "        pob.append(part[i][:6])\n",
        "      else:\n",
        "        pob.append(part[i+1][:6])\n",
        "  return np.array(pob)\n",
        "\n",
        "# Función que se encarga de realizar la mutación de los hijos\n",
        "def mutacion(X):\n",
        "  # Se realiza una mutación del 10% de los datos\n",
        "  final = int(len(X)*0.1)\n",
        "  ind1 = random.randint(0, len(X[0])-1)\n",
        "  ind2 = random.randint(0, len(X[0])-1)\n",
        "  # Caso en que ambos sean iguales\n",
        "  while ind1 == ind2:\n",
        "    ind2 = random.randint(0, len(X[0])-1)\n",
        "  \n",
        "  # Se modifica el 10% de los hijos\n",
        "  # como se generaron de forma aleatoria no hace falta modificar los hijos de\n",
        "  # forma aleatoria\n",
        "  for i in range(final):\n",
        "    for j in range(len(X[i])):\n",
        "      if j == ind1 or j == ind2:\n",
        "        X[i][j] = np.random.normal(X[i][j], .5)\n",
        "        if X[i][j] > 5:\n",
        "          X[i][j] = 5\n",
        "        elif X[i][j] < -5:\n",
        "          X[i][j] = -5\n",
        "  \n",
        "  return X\n",
        "\n",
        "# Obtener posibles soluciones digitadas por el usuario\n",
        "def solucion(X, calidad, cant):\n",
        "  sol = []\n",
        "  calSol = []\n",
        "  temp = X\n",
        "  for i in range(cant):\n",
        "    pos = np.where(calidad == np.max(calidad))\n",
        "    sol.append(temp[pos[0][0]])\n",
        "    calSol.append(calidad[pos[0][0]])\n",
        "    temp = np.delete(temp, pos[0][0], axis=0)\n",
        "    calidad = np.delete(calidad, pos[0][0], axis=0)\n",
        "  \n",
        "  return np.array(sol), np.array(calSol)"
      ],
      "execution_count": 2,
      "outputs": []
    },
    {
      "cell_type": "code",
      "metadata": {
        "id": "KAShdgkcb0Jg"
      },
      "source": [
        "# Se crea la población inicial\n",
        "array = [] # Va a contener toda la población\n",
        "\n",
        "datos = [-5,-3, -1, -2.5, 2.5, 1, 3, 5]\n",
        "A = np.array([[10.08, 10.17, 9.91, 9.74, 10.21, 9.82]])\n",
        "dimension = 6\n",
        "\n",
        "# Se carga el la población con todos lo cromosomas posibles\n",
        "for i in range(len(datos)):\n",
        "  for j in range(len(datos)):\n",
        "    for k in range(len(datos)):\n",
        "      for l in range(len(datos)):\n",
        "        for m in range(len(datos)):\n",
        "          for n in range(len(datos)):\n",
        "              temp = []\n",
        "              temp.append(datos[i]) # Posición 1\n",
        "              temp.append(datos[j]) # Posición 2\n",
        "              temp.append(datos[k]) # Posición 3\n",
        "              temp.append(datos[l]) # Posición 4\n",
        "              temp.append(datos[m]) # Posición 5\n",
        "              temp.append(datos[n]) # Posición 6\n",
        "              array.append(temp) # Se agrega el dato al arreglo\n",
        "\n",
        "P = np.array(array) # Contiene toda la población"
      ],
      "execution_count": 3,
      "outputs": []
    },
    {
      "cell_type": "code",
      "metadata": {
        "colab": {
          "base_uri": "https://localhost:8080/",
          "height": 349
        },
        "id": "aUd5bpZYebNM",
        "outputId": "eb8265d9-59f8-444d-e3ea-cb7413c9fb56"
      },
      "source": [
        "# Principio del ciclo de evolución\n",
        "fin = mejorValor(A)\n",
        "\n",
        "cantIter = 1000\n",
        "porcentaje = 0.5\n",
        "\n",
        "abs = []\n",
        "graf = [[], [], []]\n",
        "\n",
        "for i in range(cantIter):\n",
        "  # Se evalua la calidad de la población\n",
        "  calidad = functCalidad(P, A)\n",
        "  abs.append(i)\n",
        "  graf[0].append(np.max(calidad))\n",
        "  graf[1].append(calidad.mean())\n",
        "  graf[2].append(calidad.std())\n",
        "\n",
        "  # Evaluar si se obtuvo el valor esperado\n",
        "  if np.max(calidad) >= fin[0]*.99:\n",
        "    # Se obtienen posibles soluciones\n",
        "    # Para este caso 3\n",
        "    sol, calSol = solucion(P, calidad, 3)\n",
        "    # Se termina la evolución\n",
        "    break\n",
        "  elif i == cantIter - 1:\n",
        "    # Se obtienen posibles soluciones\n",
        "    # Para este caso 3\n",
        "    sol, calSol = solucion(P, calidad, 3)\n",
        "\n",
        "  # Seleccionar los cromosomas que van a ser padres\n",
        "  # Se va a seleccionar el 50% de la población como padres\n",
        "  # Se obtienen ls nuevos hijos\n",
        "  hijos = recombinacion(P, porcentaje)\n",
        "\n",
        "  # Se realiza la mutación de los hijos\n",
        "  hijos = mutacion(hijos)\n",
        "\n",
        "  # Se realiza el torneo\n",
        "  newP = torneo(P, calidad, porcentaje)\n",
        "  \n",
        "  # Se obtiene la nueva población\n",
        "  P = np.concatenate((newP, hijos), axis=0)\n",
        "\n",
        "error = ((fin[0] - calSol)/fin[0])*100\n",
        "print(sol)\n",
        "print(calSol)\n",
        "print(error)\n",
        "plt.plot(abs, graf[0])\n",
        "plt.plot(abs, graf[2])\n",
        "plt.show()"
      ],
      "execution_count": 4,
      "outputs": [
        {
          "output_type": "stream",
          "text": [
            "[[ 0.0069107  -0.0211133  -0.01360374  0.0021161  -0.01651968 -0.01380035]\n",
            " [-0.00932607 -0.0093611   0.00021186 -0.02593404 -0.00142427  0.01920694]\n",
            " [-0.00433122 -0.01309577 -0.02929218 -0.03004645  0.00694525  0.00550367]]\n",
            "[59.63389376 59.62162148 59.41525224]\n",
            "[0.49408684 0.51456452 0.858915  ]\n"
          ],
          "name": "stdout"
        },
        {
          "output_type": "display_data",
          "data": {
            "image/png": "[encoded data removed]",
            "text/plain": [
              "<Figure size 432x288 with 1 Axes>"
            ]
          },
          "metadata": {
            "tags": [],
            "needs_background": "light"
          }
        }
      ]
    }
  ]
}